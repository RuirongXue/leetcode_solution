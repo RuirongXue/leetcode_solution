{
 "cells": [
  {
   "cell_type": "markdown",
   "metadata": {},
   "source": [
    "## 概述\n",
    "二叉树的遍历主要有前中后遍历和层次遍历。前中后属于DFS，层次遍历可用BFS或者DFS来实现。\n",
    "用BFS实现层次遍历会更容易些。"
   ]
  },
  {
   "cell_type": "markdown",
   "metadata": {},
   "source": [
    "#### 数的定义"
   ]
  },
  {
   "cell_type": "code",
   "execution_count": 2,
   "metadata": {},
   "outputs": [],
   "source": [
    "class TreeNode:\n",
    "    def __init__(self, val=0, left=None, right=None):\n",
    "        self.val = val\n",
    "        self.left = left\n",
    "        self.right = right"
   ]
  },
  {
   "cell_type": "markdown",
   "metadata": {},
   "source": [
    "## 层次遍历\n",
    "相关题目"
   ]
  },
  {
   "cell_type": "markdown",
   "metadata": {},
   "source": [
    "#### DFS+二维数组递归"
   ]
  },
  {
   "cell_type": "code",
   "execution_count": null,
   "metadata": {},
   "outputs": [],
   "source": [
    "def levelOrder(self, root: TreeNode) -> List[List[int]]:\n",
    "    if not root:\n",
    "        return []\n",
    "\n",
    "    res = []\n",
    "    def add_to_res(level,node):\n",
    "        if not node:\n",
    "            return\n",
    "        if level > len(res)-1:\n",
    "            res.append([])\n",
    "        res[level].append(node.val)\n",
    "\n",
    "        add_to_res(level+1,node.left)\n",
    "        add_to_res(level+1,node.right)\n",
    "\n",
    "    add_to_res(0,root)\n",
    "\n",
    "    return [i for r in res for i in r]"
   ]
  },
  {
   "cell_type": "markdown",
   "metadata": {},
   "source": [
    "### 非递归\n",
    "借助队列，先进先出的思想"
   ]
  },
  {
   "cell_type": "code",
   "execution_count": null,
   "metadata": {},
   "outputs": [],
   "source": [
    "def levelOrder(self, root: TreeNode) -> List[List[int]]:\n",
    "    if not root: return []\n",
    "    que = [root]\n",
    "    ans = []\n",
    "    while que:\n",
    "        cur = que.pop(0)\n",
    "        ans.append(cur.val)\n",
    "        if cur.left: que.append(cur.left)\n",
    "        if cur.right:que.append(cur.right)\n",
    "    return ans"
   ]
  },
  {
   "cell_type": "markdown",
   "metadata": {},
   "source": [
    "## 前中后序遍历的递归解法"
   ]
  },
  {
   "cell_type": "markdown",
   "metadata": {},
   "source": [
    "#### 前序遍历\n",
    "前序遍历顺序：根-左-右 相关题目地址： 144. 二叉树的前序遍历 https://leetcode-cn.com/problems/binary-tree-preorder-traversal/"
   ]
  },
  {
   "cell_type": "code",
   "execution_count": null,
   "metadata": {},
   "outputs": [],
   "source": [
    "def preorderTraversal(self, root: TreeNode) -> List[int]:\n",
    "    res = []\n",
    "\n",
    "\n",
    "    def preorder(root):\n",
    "        nonlocal res\n",
    "        if root is None:\n",
    "            return\n",
    "\n",
    "        res.append(root.val)\n",
    "        preorder(root.left)\n",
    "        preorder(root.right)\n",
    "\n",
    "    preorder(root)\n",
    "    return res"
   ]
  },
  {
   "cell_type": "markdown",
   "metadata": {},
   "source": [
    "#### 中序遍历\n",
    "中序遍历的顺序是 左-根-右\n",
    "相关题目：https://leetcode-cn.com/problems/binary-tree-inorder-traversal/"
   ]
  },
  {
   "cell_type": "code",
   "execution_count": null,
   "metadata": {},
   "outputs": [],
   "source": [
    "def inorderTraversal(self, root: TreeNode) -> List[int]:\n",
    "    res=[]\n",
    "    def inorder(root):\n",
    "        nonlocal res\n",
    "\n",
    "        if root is None:\n",
    "            return\n",
    "        inorder(root.left)\n",
    "        res.append(root.val)\n",
    "        inorder(root.right)\n",
    "\n",
    "    inorder(root)\n",
    "    return res"
   ]
  },
  {
   "cell_type": "markdown",
   "metadata": {},
   "source": [
    "#### 后序遍历\n",
    "后序遍历的顺序是 左-右-根 https://leetcode-cn.com/problems/binary-tree-postorder-traversal/"
   ]
  },
  {
   "cell_type": "code",
   "execution_count": null,
   "metadata": {},
   "outputs": [],
   "source": [
    "def postorderTraversal(self, root: TreeNode) -> List[int]:\n",
    "\n",
    "    res = []\n",
    "    def postorder(node):\n",
    "        nonlocal res\n",
    "\n",
    "        if node is None:\n",
    "            return\n",
    "\n",
    "        postorder(node.left)\n",
    "        postorder(node.right)\n",
    "        res.append(node.val)\n",
    "\n",
    "    postorder(root)\n",
    "    return res"
   ]
  },
  {
   "cell_type": "code",
   "execution_count": null,
   "metadata": {},
   "outputs": [],
   "source": []
  },
  {
   "cell_type": "code",
   "execution_count": null,
   "metadata": {},
   "outputs": [],
   "source": []
  },
  {
   "cell_type": "markdown",
   "metadata": {},
   "source": [
    "### 前中后序遍历的非递归解法"
   ]
  },
  {
   "cell_type": "markdown",
   "metadata": {},
   "source": [
    "#### 前序遍历\n",
    "1. 先将根结点入栈,\n",
    "2. 一直将将左节点入栈,直到无左节点\n",
    "3. 出栈一个元素，将右节点入栈\n",
    "3. 重复 2、3 的步骤"
   ]
  },
  {
   "cell_type": "code",
   "execution_count": null,
   "metadata": {},
   "outputs": [],
   "source": [
    "def preorderTraversal(self, root: TreeNode) -> List[int]:\n",
    "    res = []\n",
    "    if not root:\n",
    "        return res\n",
    "\n",
    "    stack = []\n",
    "    node = root\n",
    "    while stack or node:\n",
    "        while node:\n",
    "            res.append(node.val)\n",
    "            stack.append(node)\n",
    "            node = node.left\n",
    "        node = stack.pop()\n",
    "        node = node.right\n",
    "    return res"
   ]
  },
  {
   "cell_type": "markdown",
   "metadata": {},
   "source": [
    "#### 中序遍历\n",
    "1. 从根节点开始，先将根节点压入栈\n",
    "2. 将其所有左子结点压入栈，取出栈顶节点，保存节点值\n",
    "3. 将当前指针移到其右子节点上，若存在右子节点，则在下次循环时又可将其所有左子结点压入栈中\n",
    "4. 重复上步骤"
   ]
  },
  {
   "cell_type": "code",
   "execution_count": null,
   "metadata": {},
   "outputs": [],
   "source": [
    "def inorderTraversal(self, root: TreeNode) -> List[int]:\n",
    "    res=[]\n",
    "    if root is None:\n",
    "        return res\n",
    "\n",
    "    node = root\n",
    "    stack = []\n",
    "    while node or stack: \n",
    "        while node:\n",
    "            stack.append(node)\n",
    "            node = node.left\n",
    "\n",
    "        node = stack.pop()\n",
    "        res.append(node.val)\n",
    "        node = node.right\n",
    "\n",
    "    return res"
   ]
  },
  {
   "cell_type": "markdown",
   "metadata": {},
   "source": [
    "#### 后序遍历"
   ]
  },
  {
   "cell_type": "code",
   "execution_count": 1,
   "metadata": {},
   "outputs": [
    {
     "ename": "NameError",
     "evalue": "name 'TreeNode' is not defined",
     "output_type": "error",
     "traceback": [
      "\u001b[0;31m---------------------------------------------------------------------------\u001b[0m",
      "\u001b[0;31mNameError\u001b[0m                                 Traceback (most recent call last)",
      "\u001b[0;32m<ipython-input-1-a67bc99f2f0f>\u001b[0m in \u001b[0;36m<module>\u001b[0;34m\u001b[0m\n\u001b[0;32m----> 1\u001b[0;31m \u001b[0;32mdef\u001b[0m \u001b[0mpostorderTraversal\u001b[0m\u001b[0;34m(\u001b[0m\u001b[0mself\u001b[0m\u001b[0;34m,\u001b[0m \u001b[0mroot\u001b[0m\u001b[0;34m:\u001b[0m \u001b[0mTreeNode\u001b[0m\u001b[0;34m)\u001b[0m \u001b[0;34m->\u001b[0m \u001b[0mList\u001b[0m\u001b[0;34m[\u001b[0m\u001b[0mint\u001b[0m\u001b[0;34m]\u001b[0m\u001b[0;34m:\u001b[0m\u001b[0;34m\u001b[0m\u001b[0;34m\u001b[0m\u001b[0m\n\u001b[0m\u001b[1;32m      2\u001b[0m \u001b[0;34m\u001b[0m\u001b[0m\n\u001b[1;32m      3\u001b[0m     \u001b[0mres\u001b[0m \u001b[0;34m=\u001b[0m \u001b[0;34m[\u001b[0m\u001b[0;34m]\u001b[0m\u001b[0;34m\u001b[0m\u001b[0;34m\u001b[0m\u001b[0m\n\u001b[1;32m      4\u001b[0m     \u001b[0mstack\u001b[0m \u001b[0;34m=\u001b[0m \u001b[0;34m[\u001b[0m\u001b[0;34m]\u001b[0m\u001b[0;34m\u001b[0m\u001b[0;34m\u001b[0m\u001b[0m\n\u001b[1;32m      5\u001b[0m     \u001b[0mprev\u001b[0m \u001b[0;34m=\u001b[0m \u001b[0;32mNone\u001b[0m\u001b[0;34m\u001b[0m\u001b[0;34m\u001b[0m\u001b[0m\n",
      "\u001b[0;31mNameError\u001b[0m: name 'TreeNode' is not defined"
     ]
    }
   ],
   "source": [
    "def postorderTraversal(self, root: TreeNode) -> List[int]:\n",
    "\n",
    "    res = []\n",
    "    stack = []\n",
    "    prev = None\n",
    "\n",
    "    while root or stack:\n",
    "        while root:\n",
    "            stack.append(root)\n",
    "            root = root.left\n",
    "\n",
    "        root = stack.pop()\n",
    "        if not  root.right or prev == root.right:\n",
    "            res.append(root.val)\n",
    "            prev = root\n",
    "            root = None\n",
    "\n",
    "        else:\n",
    "            stack.append(root)\n",
    "            root = root.right\n",
    "\n",
    "    return res"
   ]
  },
  {
   "cell_type": "code",
   "execution_count": null,
   "metadata": {},
   "outputs": [],
   "source": []
  }
 ],
 "metadata": {
  "kernelspec": {
   "display_name": "Python 3",
   "language": "python",
   "name": "python3"
  },
  "language_info": {
   "codemirror_mode": {
    "name": "ipython",
    "version": 3
   },
   "file_extension": ".py",
   "mimetype": "text/x-python",
   "name": "python",
   "nbconvert_exporter": "python",
   "pygments_lexer": "ipython3",
   "version": "3.7.4"
  }
 },
 "nbformat": 4,
 "nbformat_minor": 4
}
